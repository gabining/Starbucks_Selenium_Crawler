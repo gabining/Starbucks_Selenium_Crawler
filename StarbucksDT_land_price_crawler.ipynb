{
 "cells": [
  {
   "cell_type": "markdown",
   "metadata": {},
   "source": [
    "# StarbucksDT_land_price crwaling using Selenium"
   ]
  },
  {
   "cell_type": "markdown",
   "metadata": {},
   "source": [
    "#### To-Do list\n",
    "##### 1. open the page\n",
    "##### 2. read csv file → make dataframe\n",
    "##### 3. extract all DT stores from dataframe and append it\n",
    "##### 4. write DT's address on search bar\n",
    "##### 5. crawling price using selenium\n",
    "##### 6. extract city name from csv file name\n",
    "##### 7. save file → set file name using location name"
   ]
  },
  {
   "cell_type": "code",
   "execution_count": 1,
   "metadata": {},
   "outputs": [],
   "source": [
    "#!pip install selenium\n",
    "# !pip install bs4"
   ]
  },
  {
   "cell_type": "code",
   "execution_count": 1,
   "metadata": {},
   "outputs": [],
   "source": [
    "from urllib import request\n",
    "from selenium import webdriver\n",
    "import pandas as pd\n",
    "import numpy as np\n",
    "import bs4\n",
    "import requests\n",
    "import re\n",
    "import csv\n",
    "from time import sleep\n",
    "from selenium.common.exceptions import ElementNotVisibleException"
   ]
  },
  {
   "cell_type": "markdown",
   "metadata": {},
   "source": [
    "## 스타벅스 DT 데이터만 따로 뽑아 저장"
   ]
  },
  {
   "cell_type": "code",
   "execution_count": 107,
   "metadata": {},
   "outputs": [],
   "source": [
    "# read csv file name\n",
    "city_name_list = ['서울', '경기', '광주', '대구', '대전', '부산', '울산', '인천', '강원', '경남',  '경북', '전남', '전북', '충남', '충북',  '제주', '세종']\n",
    "i = 0;\n",
    "\n",
    "while i < len(city_name_list):\n",
    "    path = \"C:/Users/Kavin/Projects/Starbucks_Selenium_Crawler/Starbucks_data/\" #저장하고 싶은 경로 앞부분 \n",
    "    full_path = path + 'starbucks_' + city_name_list[i] +'.csv' #현재 경로 + 파일명\n",
    "    \n",
    "    path2 = \"C:/Users/Kavin/Projects/Starbucks_Selenium_Crawler/Starbucks_DT_data/\"\n",
    "    full_path2 = path2 + 'starbucks_DT_' + city_name_list[i] +'.csv'\n",
    "    \n",
    "    # 전체 지정이 담겨져 있는 csv파일 읽어오기\n",
    "    store = pd.read_csv(full_path, engine = 'python', encoding = 'utf-8')\n",
    "    store = store.drop(columns=['Unnamed: 0']) #  Unnamed컬럼 삭제\n",
    "    \n",
    "  \n",
    "   # name에 DT포함되어 있는 데이터프레임 새로 생성\n",
    "    DT_list = store[store['name'].str.contains(\"DT\")]\n",
    "    DT_list = DT_list.reset_index(drop=True)\n",
    "    \n",
    "    # DT지점만 따로 csv파일로 생성\n",
    "    DT_list.to_csv(full_path2, header=True, index=True, encoding='euc-kr')\n",
    "    \n",
    "    i = i+1"
   ]
  },
  {
   "cell_type": "markdown",
   "metadata": {},
   "source": [
    "## 홈페이지에서 스타벅스 DT의 땅값 알아보기"
   ]
  },
  {
   "cell_type": "code",
   "execution_count": 2,
   "metadata": {},
   "outputs": [],
   "source": [
    "# 다운받은 chromedriver의 path설정과 크롤링주소 설정\n",
    "path=r\"C:\\Users\\Kavin\\Downloads\\chromedriver_win32\\chromedriver\"\n",
    "driver=webdriver.Chrome(path)\n",
    "driver.get(\"http://www.onnara.go.kr/OnnaraServiceMA/onnaraCommon/mainPage.do\")\n",
    "sleep(10)"
   ]
  },
  {
   "cell_type": "code",
   "execution_count": 3,
   "metadata": {},
   "outputs": [],
   "source": [
    "driver.find_element_by_xpath('/html/body/div[3]/div[7]/div/button').click()\n",
    "sleep(5)"
   ]
  },
  {
   "cell_type": "code",
   "execution_count": 4,
   "metadata": {},
   "outputs": [],
   "source": [
    "driver.find_element_by_xpath('//*[@id=\"guide\"]/div[1]/a').click()\n",
    "sleep(5)"
   ]
  },
  {
   "cell_type": "code",
   "execution_count": 5,
   "metadata": {},
   "outputs": [],
   "source": [
    "# price값에서 ','제외한 숫자데이터만 뽑아옵니다\n",
    "def get_numeric(data):\n",
    "    match = re.search('>(.+)<', data)\n",
    "    if match:\n",
    "        return int(match.group(1).replace(',',''))    \n",
    "    return None"
   ]
  },
  {
   "cell_type": "markdown",
   "metadata": {},
   "source": [
    "# 전체 지역 공시지가 크롤링 코드"
   ]
  },
  {
   "cell_type": "code",
   "execution_count": 186,
   "metadata": {},
   "outputs": [
    {
     "ename": "WebDriverException",
     "evalue": "Message: unknown error: Element <a href=\"#\" title=\"지도검색\" class=\"btn_go\">...</a> is not clickable at point (437, 31). Other element would receive the click: <div class=\"sweet-overlay\" tabindex=\"-1\" style=\"opacity: 1; display: block;\"></div>\n  (Session info: chrome=68.0.3440.106)\n  (Driver info: chromedriver=2.41.578737 (49da6702b16031c40d63e5618de03a32ff6c197e),platform=Windows NT 10.0.17134 x86_64)\n",
     "output_type": "error",
     "traceback": [
      "\u001b[1;31m---------------------------------------------------------------------------\u001b[0m",
      "\u001b[1;31mWebDriverException\u001b[0m                        Traceback (most recent call last)",
      "\u001b[1;32m<ipython-input-186-e373215876f9>\u001b[0m in \u001b[0;36m<module>\u001b[1;34m()\u001b[0m\n\u001b[0;32m     26\u001b[0m         \u001b[1;31m# 찾기버튼 누르기\u001b[0m\u001b[1;33m\u001b[0m\u001b[1;33m\u001b[0m\u001b[0m\n\u001b[0;32m     27\u001b[0m         \u001b[0msearch\u001b[0m \u001b[1;33m=\u001b[0m \u001b[0mdriver\u001b[0m\u001b[1;33m.\u001b[0m\u001b[0mfind_element_by_xpath\u001b[0m\u001b[1;33m(\u001b[0m\u001b[1;34m'//*[@id=\"headerMap\"]/section[1]/a[2]'\u001b[0m\u001b[1;33m)\u001b[0m\u001b[1;33m\u001b[0m\u001b[0m\n\u001b[1;32m---> 28\u001b[1;33m         \u001b[0msearch\u001b[0m\u001b[1;33m.\u001b[0m\u001b[0mclick\u001b[0m\u001b[1;33m(\u001b[0m\u001b[1;33m)\u001b[0m\u001b[1;33m\u001b[0m\u001b[0m\n\u001b[0m\u001b[0;32m     29\u001b[0m         \u001b[0msleep\u001b[0m\u001b[1;33m(\u001b[0m\u001b[1;36m5\u001b[0m\u001b[1;33m)\u001b[0m\u001b[1;33m\u001b[0m\u001b[0m\n\u001b[0;32m     30\u001b[0m         \u001b[1;31m# 리스트에서 첫번째 항목\u001b[0m\u001b[1;33m\u001b[0m\u001b[1;33m\u001b[0m\u001b[0m\n",
      "\u001b[1;32m~\\Anaconda3\\lib\\site-packages\\selenium\\webdriver\\remote\\webelement.py\u001b[0m in \u001b[0;36mclick\u001b[1;34m(self)\u001b[0m\n\u001b[0;32m     78\u001b[0m     \u001b[1;32mdef\u001b[0m \u001b[0mclick\u001b[0m\u001b[1;33m(\u001b[0m\u001b[0mself\u001b[0m\u001b[1;33m)\u001b[0m\u001b[1;33m:\u001b[0m\u001b[1;33m\u001b[0m\u001b[0m\n\u001b[0;32m     79\u001b[0m         \u001b[1;34m\"\"\"Clicks the element.\"\"\"\u001b[0m\u001b[1;33m\u001b[0m\u001b[0m\n\u001b[1;32m---> 80\u001b[1;33m         \u001b[0mself\u001b[0m\u001b[1;33m.\u001b[0m\u001b[0m_execute\u001b[0m\u001b[1;33m(\u001b[0m\u001b[0mCommand\u001b[0m\u001b[1;33m.\u001b[0m\u001b[0mCLICK_ELEMENT\u001b[0m\u001b[1;33m)\u001b[0m\u001b[1;33m\u001b[0m\u001b[0m\n\u001b[0m\u001b[0;32m     81\u001b[0m \u001b[1;33m\u001b[0m\u001b[0m\n\u001b[0;32m     82\u001b[0m     \u001b[1;32mdef\u001b[0m \u001b[0msubmit\u001b[0m\u001b[1;33m(\u001b[0m\u001b[0mself\u001b[0m\u001b[1;33m)\u001b[0m\u001b[1;33m:\u001b[0m\u001b[1;33m\u001b[0m\u001b[0m\n",
      "\u001b[1;32m~\\Anaconda3\\lib\\site-packages\\selenium\\webdriver\\remote\\webelement.py\u001b[0m in \u001b[0;36m_execute\u001b[1;34m(self, command, params)\u001b[0m\n\u001b[0;32m    626\u001b[0m             \u001b[0mparams\u001b[0m \u001b[1;33m=\u001b[0m \u001b[1;33m{\u001b[0m\u001b[1;33m}\u001b[0m\u001b[1;33m\u001b[0m\u001b[0m\n\u001b[0;32m    627\u001b[0m         \u001b[0mparams\u001b[0m\u001b[1;33m[\u001b[0m\u001b[1;34m'id'\u001b[0m\u001b[1;33m]\u001b[0m \u001b[1;33m=\u001b[0m \u001b[0mself\u001b[0m\u001b[1;33m.\u001b[0m\u001b[0m_id\u001b[0m\u001b[1;33m\u001b[0m\u001b[0m\n\u001b[1;32m--> 628\u001b[1;33m         \u001b[1;32mreturn\u001b[0m \u001b[0mself\u001b[0m\u001b[1;33m.\u001b[0m\u001b[0m_parent\u001b[0m\u001b[1;33m.\u001b[0m\u001b[0mexecute\u001b[0m\u001b[1;33m(\u001b[0m\u001b[0mcommand\u001b[0m\u001b[1;33m,\u001b[0m \u001b[0mparams\u001b[0m\u001b[1;33m)\u001b[0m\u001b[1;33m\u001b[0m\u001b[0m\n\u001b[0m\u001b[0;32m    629\u001b[0m \u001b[1;33m\u001b[0m\u001b[0m\n\u001b[0;32m    630\u001b[0m     \u001b[1;32mdef\u001b[0m \u001b[0mfind_element\u001b[0m\u001b[1;33m(\u001b[0m\u001b[0mself\u001b[0m\u001b[1;33m,\u001b[0m \u001b[0mby\u001b[0m\u001b[1;33m=\u001b[0m\u001b[0mBy\u001b[0m\u001b[1;33m.\u001b[0m\u001b[0mID\u001b[0m\u001b[1;33m,\u001b[0m \u001b[0mvalue\u001b[0m\u001b[1;33m=\u001b[0m\u001b[1;32mNone\u001b[0m\u001b[1;33m)\u001b[0m\u001b[1;33m:\u001b[0m\u001b[1;33m\u001b[0m\u001b[0m\n",
      "\u001b[1;32m~\\Anaconda3\\lib\\site-packages\\selenium\\webdriver\\remote\\webdriver.py\u001b[0m in \u001b[0;36mexecute\u001b[1;34m(self, driver_command, params)\u001b[0m\n\u001b[0;32m    318\u001b[0m         \u001b[0mresponse\u001b[0m \u001b[1;33m=\u001b[0m \u001b[0mself\u001b[0m\u001b[1;33m.\u001b[0m\u001b[0mcommand_executor\u001b[0m\u001b[1;33m.\u001b[0m\u001b[0mexecute\u001b[0m\u001b[1;33m(\u001b[0m\u001b[0mdriver_command\u001b[0m\u001b[1;33m,\u001b[0m \u001b[0mparams\u001b[0m\u001b[1;33m)\u001b[0m\u001b[1;33m\u001b[0m\u001b[0m\n\u001b[0;32m    319\u001b[0m         \u001b[1;32mif\u001b[0m \u001b[0mresponse\u001b[0m\u001b[1;33m:\u001b[0m\u001b[1;33m\u001b[0m\u001b[0m\n\u001b[1;32m--> 320\u001b[1;33m             \u001b[0mself\u001b[0m\u001b[1;33m.\u001b[0m\u001b[0merror_handler\u001b[0m\u001b[1;33m.\u001b[0m\u001b[0mcheck_response\u001b[0m\u001b[1;33m(\u001b[0m\u001b[0mresponse\u001b[0m\u001b[1;33m)\u001b[0m\u001b[1;33m\u001b[0m\u001b[0m\n\u001b[0m\u001b[0;32m    321\u001b[0m             response['value'] = self._unwrap_value(\n\u001b[0;32m    322\u001b[0m                 response.get('value', None))\n",
      "\u001b[1;32m~\\Anaconda3\\lib\\site-packages\\selenium\\webdriver\\remote\\errorhandler.py\u001b[0m in \u001b[0;36mcheck_response\u001b[1;34m(self, response)\u001b[0m\n\u001b[0;32m    240\u001b[0m                 \u001b[0malert_text\u001b[0m \u001b[1;33m=\u001b[0m \u001b[0mvalue\u001b[0m\u001b[1;33m[\u001b[0m\u001b[1;34m'alert'\u001b[0m\u001b[1;33m]\u001b[0m\u001b[1;33m.\u001b[0m\u001b[0mget\u001b[0m\u001b[1;33m(\u001b[0m\u001b[1;34m'text'\u001b[0m\u001b[1;33m)\u001b[0m\u001b[1;33m\u001b[0m\u001b[0m\n\u001b[0;32m    241\u001b[0m             \u001b[1;32mraise\u001b[0m \u001b[0mexception_class\u001b[0m\u001b[1;33m(\u001b[0m\u001b[0mmessage\u001b[0m\u001b[1;33m,\u001b[0m \u001b[0mscreen\u001b[0m\u001b[1;33m,\u001b[0m \u001b[0mstacktrace\u001b[0m\u001b[1;33m,\u001b[0m \u001b[0malert_text\u001b[0m\u001b[1;33m)\u001b[0m\u001b[1;33m\u001b[0m\u001b[0m\n\u001b[1;32m--> 242\u001b[1;33m         \u001b[1;32mraise\u001b[0m \u001b[0mexception_class\u001b[0m\u001b[1;33m(\u001b[0m\u001b[0mmessage\u001b[0m\u001b[1;33m,\u001b[0m \u001b[0mscreen\u001b[0m\u001b[1;33m,\u001b[0m \u001b[0mstacktrace\u001b[0m\u001b[1;33m)\u001b[0m\u001b[1;33m\u001b[0m\u001b[0m\n\u001b[0m\u001b[0;32m    243\u001b[0m \u001b[1;33m\u001b[0m\u001b[0m\n\u001b[0;32m    244\u001b[0m     \u001b[1;32mdef\u001b[0m \u001b[0m_value_or_default\u001b[0m\u001b[1;33m(\u001b[0m\u001b[0mself\u001b[0m\u001b[1;33m,\u001b[0m \u001b[0mobj\u001b[0m\u001b[1;33m,\u001b[0m \u001b[0mkey\u001b[0m\u001b[1;33m,\u001b[0m \u001b[0mdefault\u001b[0m\u001b[1;33m)\u001b[0m\u001b[1;33m:\u001b[0m\u001b[1;33m\u001b[0m\u001b[0m\n",
      "\u001b[1;31mWebDriverException\u001b[0m: Message: unknown error: Element <a href=\"#\" title=\"지도검색\" class=\"btn_go\">...</a> is not clickable at point (437, 31). Other element would receive the click: <div class=\"sweet-overlay\" tabindex=\"-1\" style=\"opacity: 1; display: block;\"></div>\n  (Session info: chrome=68.0.3440.106)\n  (Driver info: chromedriver=2.41.578737 (49da6702b16031c40d63e5618de03a32ff6c197e),platform=Windows NT 10.0.17134 x86_64)\n"
     ]
    }
   ],
   "source": [
    "# csv 파일을 읽어오고 데이터프레임에 넣은 후 공시지가 컬럼 새로 추가\n",
    "\n",
    "city_name_list = ['서울', '경기', '광주', '대구', '대전', '부산', '울산', '인천', '강원', '경남',  '경북', '전남', '전북', '충남', '충북',  '제주', '세종']\n",
    "price_list = []\n",
    "i = 0\n",
    "\n",
    "while i < len(city_name_list):\n",
    "    path = \"C:/Users/Kavin/Projects/Starbucks_Selenium_Crawler/Starbucks_DT_data/\" #저장하고 싶은 경로 앞부분 \n",
    "    full_path = path + 'starbucks_DT_' + city_name_list[i] +'.csv' #현재 경로 + 파일명\n",
    "\n",
    "    # 전체 지정이 담겨져 있는 csv파일 읽어오기\n",
    "    store = pd.read_csv(full_path, engine = 'python', encoding = 'euc-kr')\n",
    "    store = store.drop(columns=['Unnamed: 0']) #  Unnamed컬럼 삭제\n",
    "    j=0\n",
    "    \n",
    "    while j < len(store):\n",
    "        \n",
    "        address_keyword = store['address'][j]\n",
    "        \n",
    "\n",
    "        # 검색창에 주소 입력\n",
    "        address_search = driver.find_element_by_xpath('//*[@id=\"totalSerarch\"]')\n",
    "        address_search.clear()\n",
    "        address_search.send_keys(address_keyword)\n",
    "        sleep(2)\n",
    "        # 찾기버튼 누르기\n",
    "        search = driver.find_element_by_xpath('//*[@id=\"headerMap\"]/section[1]/a[2]')\n",
    "        search.click()\n",
    "        sleep(5)\n",
    "        # 리스트에서 첫번째 항목 \n",
    "        click_address = driver.find_element_by_xpath('//*[@id=\"searchMenu\"]/div[1]/ul/li[1]/div/div/div/div[2]/ul/li[2]/div/div[1]/div/ul/li/ul')\n",
    "        click_address.click()\n",
    "        sleep(5)\n",
    "        \n",
    "        # 공시지가 가져오기\n",
    "        source = driver.page_source\n",
    "        bs = bs4.BeautifulSoup(source,'lxml')\n",
    "        price_list.append(bs.select('#infoJiga'))\n",
    "\n",
    "\n",
    "        j = j + 1\n",
    "        \n",
    "    \n",
    "    store['price'] = price_list\n",
    "    store['price'] = store['price'].astype('str')\n",
    "    store['price'] = store['price'].apply(get_numeric)\n",
    "\n",
    "       \n",
    "    path2 = \"C:/Users/Kavin/Projects/Starbucks_Selenium_Crawler/Starbucks_DT_price/\"\n",
    "    full_path2 = path2 + 'starbucks_DT_price_' + city_name_list[i] +'.csv'\n",
    "    store.to_csv(full_path2, header=True, index=True, encoding='euc-kr')\n",
    "    \n",
    "\n",
    "    \n",
    "    i = i + 1"
   ]
  },
  {
   "cell_type": "markdown",
   "metadata": {},
   "source": [
    "## 추가해야할 부분\n",
    "\n",
    "1) 지도 이동 불가능하다는 경고창 에러 해결\n",
    "\n",
    "2) 주소 검색시 결과값 나오지 않는 에러 해결\n",
    "\n",
    "3) 정확한 지도 데이터 가져오기(정확한 도로명주소로 검색하여 비교 후 색인)"
   ]
  },
  {
   "cell_type": "markdown",
   "metadata": {},
   "source": [
    "### 1) 지도 이동 불가능 시 0값 처리 후 크롤링하기"
   ]
  },
  {
   "cell_type": "code",
   "execution_count": 1,
   "metadata": {},
   "outputs": [
    {
     "ename": "NameError",
     "evalue": "name 'pd' is not defined",
     "output_type": "error",
     "traceback": [
      "\u001b[1;31m---------------------------------------------------------------------------\u001b[0m",
      "\u001b[1;31mNameError\u001b[0m                                 Traceback (most recent call last)",
      "\u001b[1;32m<ipython-input-1-a12eef68a82e>\u001b[0m in \u001b[0;36m<module>\u001b[1;34m()\u001b[0m\n\u001b[0;32m     12\u001b[0m \u001b[1;33m\u001b[0m\u001b[0m\n\u001b[0;32m     13\u001b[0m     \u001b[1;31m# 전체 지정이 담겨져 있는 csv파일 읽어오기\u001b[0m\u001b[1;33m\u001b[0m\u001b[1;33m\u001b[0m\u001b[0m\n\u001b[1;32m---> 14\u001b[1;33m     \u001b[0mstore\u001b[0m \u001b[1;33m=\u001b[0m \u001b[0mpd\u001b[0m\u001b[1;33m.\u001b[0m\u001b[0mread_csv\u001b[0m\u001b[1;33m(\u001b[0m\u001b[0mfull_path\u001b[0m\u001b[1;33m,\u001b[0m \u001b[0mengine\u001b[0m \u001b[1;33m=\u001b[0m \u001b[1;34m'python'\u001b[0m\u001b[1;33m,\u001b[0m \u001b[0mencoding\u001b[0m \u001b[1;33m=\u001b[0m \u001b[1;34m'euc-kr'\u001b[0m\u001b[1;33m)\u001b[0m\u001b[1;33m\u001b[0m\u001b[0m\n\u001b[0m\u001b[0;32m     15\u001b[0m     \u001b[0mstore\u001b[0m \u001b[1;33m=\u001b[0m \u001b[0mstore\u001b[0m\u001b[1;33m.\u001b[0m\u001b[0mdrop\u001b[0m\u001b[1;33m(\u001b[0m\u001b[0mcolumns\u001b[0m\u001b[1;33m=\u001b[0m\u001b[1;33m[\u001b[0m\u001b[1;34m'Unnamed: 0'\u001b[0m\u001b[1;33m]\u001b[0m\u001b[1;33m)\u001b[0m \u001b[1;31m#  Unnamed컬럼 삭제\u001b[0m\u001b[1;33m\u001b[0m\u001b[0m\n\u001b[0;32m     16\u001b[0m \u001b[1;33m\u001b[0m\u001b[0m\n",
      "\u001b[1;31mNameError\u001b[0m: name 'pd' is not defined"
     ]
    }
   ],
   "source": [
    "# apply to original code\n",
    "\n",
    "# csv 파일을 읽어오고 데이터프레임에 넣은 후 공시지가 컬럼 새로 추가\n",
    "\n",
    "city_name_list = ['서울', '경기', '광주', '대구', '대전', '부산', '울산', '인천', '강원', '경남',  '경북', '전남', '전북', '충남', '충북',  '제주', '세종']\n",
    "price_list = []\n",
    "i = 0\n",
    "\n",
    "while i < len(city_name_list):\n",
    "    path = \"C:/Users/Kavin/Projects/Starbucks_Selenium_Crawler/Starbucks_DT_data/\" #저장하고 싶은 경로 앞부분 \n",
    "    full_path = path + 'starbucks_DT_' + city_name_list[i] +'.csv' #현재 경로 + 파일명\n",
    "\n",
    "    # 전체 지정이 담겨져 있는 csv파일 읽어오기\n",
    "    store = pd.read_csv(full_path, engine = 'python', encoding = 'euc-kr')\n",
    "    store = store.drop(columns=['Unnamed: 0']) #  Unnamed컬럼 삭제\n",
    "   \n",
    "    j=0\n",
    "    \n",
    "    while j < len(store):\n",
    "        \n",
    "        address_keyword = store['address'][j]\n",
    "        \n",
    "\n",
    "        # 검색창에 주소 입력\n",
    "        address_search = driver.find_element_by_xpath('//*[@id=\"totalSerarch\"]')\n",
    "        address_search.clear()\n",
    "        address_search.send_keys(address_keyword)\n",
    "        sleep(2)\n",
    "        # 찾기버튼 누르기\n",
    "        search = driver.find_element_by_xpath('//*[@id=\"headerMap\"]/section[1]/a[2]')\n",
    "        search.click()\n",
    "        sleep(5)\n",
    "        # 리스트에서 첫번째 항목 \n",
    "        click_address = driver.find_element_by_xpath('//*[@id=\"searchMenu\"]/div[1]/ul/li[1]/div/div/div/div[2]/ul/li[2]/div/div[1]/div/ul/li/ul')\n",
    "        click_address.click()\n",
    "        sleep(5)\n",
    "        \n",
    "        try:\n",
    "            if len(driver.find_elements_by_class_name('sa-confirm-button-container')) > 0:\n",
    "                driver.find_element_by_xpath('/html/body/div[3]/div[7]/div/button').click()\n",
    "                price_list.append('')\n",
    "                sleep(2)\n",
    "        except ElementNotVisibleException as e:\n",
    "                source = driver.page_source\n",
    "                bs = bs4.BeautifulSoup(source,'lxml')\n",
    "                price_list.append(bs.select('#infoJiga'))\n",
    "                sleep(2)\n",
    "        print(price_list[j])    \n",
    "        j = j + 1\n",
    "        \n",
    "    \n",
    "    store['price'] = price_list\n",
    "    store['price'] = store['price'].astype('str')\n",
    "    store['price'] = store['price'].apply(get_numeric)\n",
    "\n",
    "       \n",
    "    path2 = \"C:/Users/Kavin/Projects/Starbucks_Selenium_Crawler/Starbucks_DT_price/\"\n",
    "    full_path2 = path2 + 'starbucks_DT_price_' + city_name_list[i] +'.csv'\n",
    "    store.to_csv(full_path2, header=True, index=True, encoding='euc-kr')\n",
    "    \n",
    "\n",
    "    \n",
    "    i = i + 1"
   ]
  },
  {
   "cell_type": "markdown",
   "metadata": {},
   "source": [
    "### 2) 주소 검색 시 값이 나오지 않을 때 에러 처리"
   ]
  },
  {
   "cell_type": "code",
   "execution_count": 35,
   "metadata": {},
   "outputs": [
    {
     "name": "stdout",
     "output_type": "stream",
     "text": [
      "[<em class=\"letter\" id=\"infoJiga\">1,591,000</em>]\n",
      "[<em class=\"letter\" id=\"infoJiga\">1,288,000</em>]\n",
      "[<em class=\"letter\" id=\"infoJiga\">436,000</em>]\n",
      "[<em class=\"letter\" id=\"infoJiga\">1,712,000</em>]\n",
      "[<em class=\"letter\" id=\"infoJiga\">1,478,000</em>]\n",
      "[<em class=\"letter\" id=\"infoJiga\">950,000</em>]\n",
      "\n",
      "[<em class=\"letter\" id=\"infoJiga\">765,300</em>]\n",
      "[<em class=\"letter\" id=\"infoJiga\">352,000</em>]\n",
      "[<em class=\"letter\" id=\"infoJiga\">655,200</em>]\n",
      "[<em class=\"letter\" id=\"infoJiga\">808,000</em>]\n",
      "[<em class=\"letter\" id=\"infoJiga\">1,060,000</em>]\n",
      "[<em class=\"letter\" id=\"infoJiga\">675,000</em>]\n",
      "[<em class=\"letter\" id=\"infoJiga\">1,113,000</em>]\n",
      "\n",
      "\n",
      "[<em class=\"letter\" id=\"infoJiga\">1,453,000</em>]\n",
      "[<em class=\"letter\" id=\"infoJiga\">894,400</em>]\n",
      "[<em class=\"letter\" id=\"infoJiga\">285,800</em>]\n",
      "[<em class=\"letter\" id=\"infoJiga\">795,400</em>]\n",
      "[<em class=\"letter\" id=\"infoJiga\">1,650,000</em>]\n",
      "[<em class=\"letter\" id=\"infoJiga\">2,397,000</em>]\n",
      "[<em class=\"letter\" id=\"infoJiga\">906,900</em>]\n",
      "[<em class=\"letter\" id=\"infoJiga\">834,900</em>]\n",
      "[<em class=\"letter\" id=\"infoJiga\">1,060,000</em>]\n",
      "[<em class=\"letter\" id=\"infoJiga\">497,600</em>]\n",
      "[<em class=\"letter\" id=\"infoJiga\">379,200</em>]\n",
      "[<em class=\"letter\" id=\"infoJiga\">865,300</em>]\n",
      "\n",
      "[<em class=\"letter\" id=\"infoJiga\">510,600</em>]\n",
      "[<em class=\"letter\" id=\"infoJiga\">205,000</em>]\n"
     ]
    }
   ],
   "source": [
    "# apply to original code\n",
    "\n",
    "# csv 파일을 읽어오고 데이터프레임에 넣은 후 공시지가 컬럼 새로 추가\n",
    "\n",
    "city_name_list = ['서울', '경기', '광주', '대구', '대전', '부산', '울산', '인천', '강원', '경남',  '경북', '전남', '전북', '충남', '충북',  '제주', '세종']\n",
    "price_list = []\n",
    "i = 0\n",
    "\n",
    "while i < len(city_name_list):\n",
    "    price_list.clear()\n",
    "\n",
    "    path = \"C:/Users/Kavin/Projects/Starbucks_Selenium_Crawler/Starbucks_DT_data/\" #저장하고 싶은 경로 앞부분 \n",
    "    full_path = path + 'starbucks_DT_' + city_name_list[i] +'.csv' #현재 경로 + 파일명\n",
    "\n",
    "    # 전체 지정이 담겨져 있는 csv파일 읽어오기\n",
    "    store = pd.read_csv(full_path, engine = 'python', encoding = 'euc-kr')\n",
    "    store = store.drop(columns=['Unnamed: 0']) #  Unnamed컬럼 삭제\n",
    "   \n",
    "    j=0\n",
    "    \n",
    "    while j < len(store):\n",
    "        \n",
    "        address_keyword = store['address'][j]\n",
    "        \n",
    "\n",
    "        # 검색창에 주소 입력\n",
    "        address_search = driver.find_element_by_xpath('//*[@id=\"totalSerarch\"]')\n",
    "        address_search.clear()\n",
    "        address_search.send_keys(address_keyword)\n",
    "        sleep(2)\n",
    "        # 찾기버튼 누르기\n",
    "        search = driver.find_element_by_xpath('//*[@id=\"headerMap\"]/section[1]/a[2]')\n",
    "        search.click()\n",
    "        sleep(5)\n",
    "        # 리스트에서 첫번째 항목 \n",
    "\n",
    "        if len(driver.find_elements_by_xpath('//*[@id=\"searchMenu\"]/div[1]/ul/li[1]/div/div/div/div[2]/ul/li[2]/div/div[1]/div/ul/li[1]')) > 0:\n",
    "            click_address = driver.find_element_by_xpath('//*[@id=\"searchMenu\"]/div[1]/ul/li[1]/div/div/div/div[2]/ul/li[2]/div/div[1]/div/ul/li[1]/ul')\n",
    "            click_address.click()\n",
    "            sleep(8)\n",
    "            \n",
    "            try:\n",
    "                if len(driver.find_elements_by_class_name('sa-confirm-button-container')) > 0:\n",
    "                    driver.find_element_by_xpath('/html/body/div[3]/div[7]/div/button').click()\n",
    "                    price_list.append('')\n",
    "                    sleep(2)\n",
    "            except ElementNotVisibleException as e:\n",
    "                    source = driver.page_source\n",
    "                    bs = bs4.BeautifulSoup(source,'lxml')\n",
    "                    price_list.append(bs.select('#infoJiga'))\n",
    "                    sleep(2)\n",
    "\n",
    "        else:\n",
    "            price_list.append('')\n",
    "            sleep(2)\n",
    "            \n",
    "        print(price_list[j])\n",
    "        j = j + 1\n",
    "        \n",
    "    \n",
    "    store['price'] = price_list\n",
    "    store['price'] = store['price'].astype('str')\n",
    "    store['price'] = store['price'].apply(get_numeric)\n",
    "\n",
    "       \n",
    "    path2 = \"C:/Users/Kavin/Projects/Starbucks_Selenium_Crawler/Starbucks_DT_price/\"\n",
    "    full_path2 = path2 + 'starbucks_DT_price_' + city_name_list[i] +'.csv'\n",
    "    store.to_csv(full_path2, header=True, index=True, encoding='euc-kr')\n",
    "    \n",
    "    i = i + 1"
   ]
  }
 ],
 "metadata": {
  "kernelspec": {
   "display_name": "Python 3",
   "language": "python",
   "name": "python3"
  },
  "language_info": {
   "codemirror_mode": {
    "name": "ipython",
    "version": 3
   },
   "file_extension": ".py",
   "mimetype": "text/x-python",
   "name": "python",
   "nbconvert_exporter": "python",
   "pygments_lexer": "ipython3",
   "version": "3.6.5"
  }
 },
 "nbformat": 4,
 "nbformat_minor": 2
}
