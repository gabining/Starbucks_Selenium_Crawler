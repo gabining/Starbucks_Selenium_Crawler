{
 "cells": [
  {
   "cell_type": "code",
   "execution_count": 1,
   "metadata": {},
   "outputs": [],
   "source": [
    "#!pip install selenium\n",
    "# !pip install bs4"
   ]
  },
  {
   "cell_type": "code",
   "execution_count": 2,
   "metadata": {},
   "outputs": [],
   "source": [
    "from urllib import request\n",
    "from selenium import webdriver\n",
    "import pandas as pd\n",
    "import numpy as np\n",
    "import bs4\n",
    "import requests\n",
    "import re\n",
    "from time import sleep"
   ]
  },
  {
   "cell_type": "code",
   "execution_count": 3,
   "metadata": {},
   "outputs": [
    {
     "name": "stdout",
     "output_type": "stream",
     "text": [
      "BeautifulSoup version: 4.6.0\n"
     ]
    }
   ],
   "source": [
    "print (\"BeautifulSoup version:%6.6s\" % bs4.__version__)"
   ]
  },
  {
   "cell_type": "markdown",
   "metadata": {},
   "source": [
    "# 스타벅스 상점명 크롤링"
   ]
  },
  {
   "cell_type": "code",
   "execution_count": 4,
   "metadata": {},
   "outputs": [],
   "source": [
    "# 다운받은 chromedriver의 path설정과 크롤링주소 설정\n",
    "path=r\"C:\\Users\\Kavin\\Downloads\\chromedriver_win32\\chromedriver\"\n",
    "driver=webdriver.Chrome(path)\n",
    "driver.get(\"https://www.istarbucks.co.kr/store/store_map.do\")\n",
    "sleep(5)"
   ]
  },
  {
   "cell_type": "code",
   "execution_count": 5,
   "metadata": {},
   "outputs": [
    {
     "data": {
      "text/plain": [
       "['서울',\n",
       " '경기',\n",
       " '광주',\n",
       " '대구',\n",
       " '대전',\n",
       " '부산',\n",
       " '울산',\n",
       " '인천',\n",
       " '강원',\n",
       " '경남',\n",
       " '경북',\n",
       " '전남',\n",
       " '전북',\n",
       " '충남',\n",
       " '충북',\n",
       " '제주',\n",
       " '세종']"
      ]
     },
     "execution_count": 5,
     "metadata": {},
     "output_type": "execute_result"
    }
   ],
   "source": [
    "# 스타벅스 홈페이지 내에서 \n",
    "location_search = driver.find_element_by_class_name('loca_search')\n",
    "location_search.click()\n",
    "sleep(5)\n",
    "\n",
    "city_name_list = [el.text for el in driver.find_elements_by_xpath(\"//*[@id='container']/div/form/fieldset/div/section/article[1]/article/article[2]/div[1]/div[2]/ul/li\")]\n",
    "city_name_list"
   ]
  },
  {
   "cell_type": "markdown",
   "metadata": {},
   "source": [
    "### #1 세종시 제외한 16개 시/도 크롤링"
   ]
  },
  {
   "cell_type": "code",
   "execution_count": 6,
   "metadata": {},
   "outputs": [],
   "source": [
    "# test코드(수정 요망)\n",
    "i = 0\n",
    "while i < len(city_name_list)-1:\n",
    "    # 지역선택 클릭하기\n",
    "    location_search = driver.find_element_by_class_name('loca_search')\n",
    "    location_search.click()\n",
    "    sleep(5)\n",
    "    \n",
    "    # 시 선택\n",
    "    city= driver.find_element_by_class_name('sido_arae_box')\n",
    "    city_li = city.find_elements_by_tag_name('li')\n",
    "    city_li[i].click()\n",
    "    sleep(5)\n",
    "    \n",
    "    #구군에서 '전체' 선택하도록 하기\n",
    "    gugun = driver.find_element_by_class_name('gugun_arae_box')\n",
    "    gu_li = gugun.find_element_by_tag_name('li')\n",
    "    gu_li.click()\n",
    "    sleep(5)\n",
    "\n",
    "    source = driver.page_source\n",
    "    bs = bs4.BeautifulSoup(source,'lxml')\n",
    "    entire = bs.find('ul', class_='quickSearchResultBoxSidoGugun')\n",
    "    li_list = entire.find_all('li')\n",
    "    \n",
    "    name_list = []\n",
    "    address_list = []\n",
    "\n",
    "    # DT점명 가져오기\n",
    "    for name in li_list:\n",
    "        name_list.append(name.find('strong').text)\n",
    "\n",
    "    # DT주소 가져오기\n",
    "    for address in li_list:\n",
    "        address_list.append(address.find('p').text)\n",
    "        \n",
    "        \n",
    "    # csv파일 저장하기 - path, filename 설정(지역별로 파일명 상이)\n",
    "    path = \"C:/dataitgirls/\" #저장하고 싶은 경로 앞부분 \n",
    "    full_path = path + 'starbucks_' + city_name_list[i] +'.csv' #현재 경로 + 파일명\n",
    "            \n",
    "    df = pd.DataFrame({'name':name_list, 'address':address_list})\n",
    "    \n",
    "    # 'address' 칼럼에 전화번호 제거\n",
    "    df['address'] = df['address'].str.replace(r'\\d{2,3}-\\d{3,4}-\\d{4}', '')\n",
    "    \n",
    "    # csv파일로 저장\n",
    "    df.to_csv(full_path, header=True, index=True, encoding='euc-kr')\n",
    "    \n",
    "    i = i+1"
   ]
  },
  {
   "cell_type": "markdown",
   "metadata": {},
   "source": [
    "### #2 세종시 크롤링"
   ]
  },
  {
   "cell_type": "code",
   "execution_count": 7,
   "metadata": {},
   "outputs": [],
   "source": [
    "# 세종시는 구/군 선택이 없으므로 while문 반복 이후 따로 크롤링\n",
    "\n",
    "# 지역선택 클릭하기\n",
    "loca = driver.find_element_by_class_name('loca_search')\n",
    "loca.click()\n",
    "sleep(5)\n",
    "    \n",
    "# 시 선택\n",
    "loca = driver.find_element_by_class_name('sido_arae_box')\n",
    "li = loca.find_elements_by_tag_name('li')\n",
    "li[16].click()\n",
    "sleep(5)\n",
    "\n",
    "source = driver.page_source\n",
    "bs = bs4.BeautifulSoup(source,'lxml')\n",
    "entire = bs.find('ul', class_='quickSearchResultBoxSidoGugun')\n",
    "li_list = entire.find_all('li')\n",
    "\n",
    "name_list = []\n",
    "address_list = []\n",
    "\n",
    "# DT점명 가져오기\n",
    "for name in li_list:\n",
    "    name_list.append(name.find('strong').text)\n",
    "\n",
    "# DT주소 가져오기\n",
    "for address in li_list:\n",
    "    address_list.append(address.find('p').text)\n",
    "    \n",
    "df_Sejong = pd.DataFrame({'name':name_list, 'address':address_list})\n",
    "\n",
    "# 'address' 칼럼에 전화번호 제거\n",
    "df_Sejong['address'] = df_Sejong['address'].str.replace(r'\\d{2,3}-\\d{3,4}-\\d{4}', '')\n",
    "\n",
    "# csv파일로 저장\n",
    "df_Sejong.to_csv(\"C:/dataitgirls/starbucks_세종.csv\", header=True, index=True, encoding='euc-kr')"
   ]
  }
 ],
 "metadata": {
  "kernelspec": {
   "display_name": "Python 3",
   "language": "python",
   "name": "python3"
  },
  "language_info": {
   "codemirror_mode": {
    "name": "ipython",
    "version": 3
   },
   "file_extension": ".py",
   "mimetype": "text/x-python",
   "name": "python",
   "nbconvert_exporter": "python",
   "pygments_lexer": "ipython3",
   "version": "3.6.5"
  }
 },
 "nbformat": 4,
 "nbformat_minor": 2
}
